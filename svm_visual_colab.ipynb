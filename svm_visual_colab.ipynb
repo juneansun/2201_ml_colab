{
  "cells": [
    {
      "cell_type": "markdown",
      "metadata": {
        "id": "view-in-github",
        "colab_type": "text"
      },
      "source": [
        "<a href=\"https://colab.research.google.com/github/juneansun/2201_ml_colab/blob/main/svm_visual_colab.ipynb\" target=\"_parent\"><img src=\"https://colab.research.google.com/assets/colab-badge.svg\" alt=\"Open In Colab\"/></a>"
      ]
    },
    {
      "cell_type": "code",
      "source": [
        " from google.colab import drive\n",
        "drive.mount('/content/drive')"
      ],
      "metadata": {
        "id": "GTEtvmwyz_cx"
      },
      "execution_count": null,
      "outputs": []
    },
    {
      "cell_type": "code",
      "execution_count": null,
      "metadata": {
        "id": "JqSHrbw7q-Of"
      },
      "outputs": [],
      "source": [
        "%matplotlib inline\n",
        "\n",
        "# 사용할 라이브러리를 불러옵니다.\n",
        "import numpy as np                                    # 배열(array)을 쉽게 사용하기 위한 라이브러리입니다.\n",
        "import pandas as pd                                   # 데이터를 쉽게 보고 사용하기 위한 라이브러리입니다.\n",
        "import matplotlib.pyplot as plt                       # 시각화 설정 클래스입니다.\n",
        "\n",
        "from sklearn.svm import SVC                           # 사용할 머신러닝 알고리즘입니다.\n",
        "\n",
        "from mlxtend.plotting import plot_decision_regions    # 결정영역 시각화 함수입니다.\n",
        "from sklearn.decomposition import PCA\n",
        "from sklearn.metrics import plot_confusion_matrix     # 모델 성능평가를 위한 함수입니다.\n",
        "from sklearn.metrics import ConfusionMatrixDisplay\n",
        "\n",
        "plt.rcParams['figure.figsize'] = [16, 8]\n",
        "\n",
        "# 학습 데이터를 불러옵니다.\n",
        "train = pd.read_csv('/content/drive/MyDrive/Colab Notebooks/ML/iris_train.csv', sep=',', encoding='utf-8')\n",
        "x_train = train.drop(['target', 'target_name'], axis=1).values\n",
        "y_train = train['target'].values\n",
        "\n",
        "# 테스트 데이터를 불러옵니다.\n",
        "test = pd.read_csv('/content/drive/MyDrive/Colab Notebooks/ML/iris_test.csv', sep=',', encoding='utf-8')\n",
        "x_test = test.drop(['target', 'target_name'], axis=1).values\n",
        "y_test = test['target'].values\n",
        "\n",
        "# 사용할 알고리즘을 불러옵니다.\n",
        "model = SVC(             # Support Vector Classifier\n",
        "    C=1.0,               # 정규화 파라미터입니다. 정규화 정도와 C값은 반비례합니다. C값은 반드시 0보다 커야 합니다.\n",
        "    kernel='rbf',        # Radial basis function 커널을 사용합니다.\n",
        ")\n",
        "\n",
        "# 모델을 학습합니다.\n",
        "model.fit(x_train, y_train)\n",
        "\n",
        "# 테스트 데이터로 예측합니다.\n",
        "pred = model.predict(x_test)\n",
        "test['prediction'] = pred\n",
        "test['prediction_name'] = test['prediction'].replace({0: 'setosa', 1: 'versicolor', 2: 'virginica'})\n",
        "\n",
        "# 테스트 데이터로 정확성을 확인합니다.\n",
        "print('How well learned: ', model.score(x_train, y_train) * 100)\n",
        "print('Accuracy: ', model.score(x_test, y_test) * 100)"
      ]
    },
    {
      "cell_type": "code",
      "execution_count": null,
      "metadata": {
        "id": "IJSxOBS94kyV"
      },
      "outputs": [],
      "source": [
        "plt.figure()\n",
        "ConfusionMatrixDisplay.from_estimator(\n",
        "    model,\n",
        "    x_test,\n",
        "    y_test,\n",
        "    display_labels=['setosa', 'versicolor', 'verginica'],\n",
        "    cmap=plt.cm.Blues\n",
        ")\n",
        "plt.show()\n",
        "\n",
        "plt.figure()\n",
        "ConfusionMatrixDisplay.from_estimator(\n",
        "    model,\n",
        "    x_train,\n",
        "    y_train,\n",
        "    display_labels=['setosa', 'versicolor', 'verginica'],\n",
        "    cmap=plt.cm.Blues\n",
        ")\n",
        "plt.show()"
      ]
    },
    {
      "cell_type": "code",
      "execution_count": null,
      "metadata": {
        "id": "rCdvBBRd6v3x"
      },
      "outputs": [],
      "source": [
        "plt.figure()\n",
        "plot_decision_regions(\n",
        "    X=x_train,\n",
        "    y=y_train,\n",
        "    clf=model,    # 학습한 모델을 입력합니다.\n",
        ")\n",
        "plt.show()\n",
        "\n",
        "plt.figure()\n",
        "plot_decision_regions(\n",
        "    X=x_test,\n",
        "    y=y_test,\n",
        "    clf=model,    # 학습한 모델을 입력합니다.\n",
        ")\n",
        "plt.show()"
      ]
    }
  ],
  "metadata": {
    "colab": {
      "collapsed_sections": [],
      "name": "svm_visual_colab.ipynb",
      "provenance": [],
      "include_colab_link": true
    },
    "kernelspec": {
      "display_name": "Python 3",
      "language": "python",
      "name": "python3"
    },
    "language_info": {
      "codemirror_mode": {
        "name": "ipython",
        "version": 3
      },
      "file_extension": ".py",
      "mimetype": "text/x-python",
      "name": "python",
      "nbconvert_exporter": "python",
      "pygments_lexer": "ipython3",
      "version": "3.6.4"
    }
  },
  "nbformat": 4,
  "nbformat_minor": 0
}